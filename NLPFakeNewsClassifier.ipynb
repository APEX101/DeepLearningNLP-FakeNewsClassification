{
 "cells": [
  {
   "cell_type": "code",
   "execution_count": 215,
   "metadata": {
    "colab": {
     "base_uri": "https://localhost:8080/"
    },
    "id": "XRn0mvJSIpTq",
    "outputId": "6dcc6de6-07e3-49b5-e2fa-76517ef25ae4"
   },
   "outputs": [
    {
     "name": "stdout",
     "output_type": "stream",
     "text": [
      "Drive already mounted at /content/drive; to attempt to forcibly remount, call drive.mount(\"/content/drive\", force_remount=True).\n"
     ]
    }
   ],
   "source": [
    "from google.colab import drive\n",
    "drive.mount ('/content/drive')"
   ]
  },
  {
   "cell_type": "code",
   "execution_count": null,
   "metadata": {
    "colab": {
     "base_uri": "https://localhost:8080/"
    },
    "id": "DBMDMAwDLJJ-",
    "outputId": "774b153b-34cc-4d26-dab0-dc94c4438b27"
   },
   "outputs": [
    {
     "name": "stdout",
     "output_type": "stream",
     "text": [
      "/content/drive/MyDrive/NLP fake news classifier_using_LSTMS\n"
     ]
    }
   ],
   "source": [
    "%cd '/content/drive/MyDrive/NLP fake news classifier_using_LSTMS'"
   ]
  },
  {
   "cell_type": "code",
   "execution_count": null,
   "metadata": {
    "colab": {
     "base_uri": "https://localhost:8080/"
    },
    "id": "80Nyp9nvLQw_",
    "outputId": "08f70802-fd90-4a40-cde4-d5e8a2dcf10f"
   },
   "outputs": [
    {
     "name": "stdout",
     "output_type": "stream",
     "text": [
      "fake-news.zip  NLPFakeNewsClassifier.ipynb  submit.csv\ttest.csv  train.csv\n"
     ]
    }
   ],
   "source": [
    "!ls"
   ]
  },
  {
   "cell_type": "code",
   "execution_count": null,
   "metadata": {
    "id": "TPY-3YtCLRyP"
   },
   "outputs": [],
   "source": [
    "# !unzip '/content/drive/MyDrive/NLP fake news classifier_using_LSTMS/fake-news.zip' -d '/content/drive/MyDrive/NLP fake news classifier_using_LSTMS/'"
   ]
  },
  {
   "cell_type": "markdown",
   "metadata": {
    "id": "S4pzJggUL8lP"
   },
   "source": [
    "# Preprocessing"
   ]
  },
  {
   "cell_type": "code",
   "execution_count": null,
   "metadata": {
    "id": "lnK9PmnRLhE-"
   },
   "outputs": [],
   "source": [
    "import numpy as np\n",
    "import pandas as pd\n",
    "import matplotlib.pyplot as plt\n",
    "import nltk\n",
    "import seaborn as sns\n",
    "\n",
    "from nltk.stem.snowball import SnowballStemmer"
   ]
  },
  {
   "cell_type": "code",
   "execution_count": null,
   "metadata": {
    "colab": {
     "base_uri": "https://localhost:8080/"
    },
    "id": "q5nrlcLKqWu2",
    "outputId": "390d6482-24cf-47ce-ad79-9304a911b8b6"
   },
   "outputs": [
    {
     "name": "stdout",
     "output_type": "stream",
     "text": [
      "[nltk_data] Downloading package stopwords to /root/nltk_data...\n",
      "[nltk_data]   Unzipping corpora/stopwords.zip.\n"
     ]
    }
   ],
   "source": [
    "nltk.download('stopwords')\n",
    "from nltk.corpus import stopwords"
   ]
  },
  {
   "cell_type": "code",
   "execution_count": null,
   "metadata": {
    "id": "j0hUsWPyMH8-"
   },
   "outputs": [],
   "source": [
    "train  = pd.read_csv('train.csv' , index_col='id')\n",
    "test =   pd.read_csv('test.csv',index_col='id')"
   ]
  },
  {
   "cell_type": "code",
   "execution_count": null,
   "metadata": {
    "colab": {
     "base_uri": "https://localhost:8080/",
     "height": 455
    },
    "id": "Uwynkso1PlZc",
    "outputId": "bf96e6f9-e5d3-4a44-af98-e3adf9b9f11b"
   },
   "outputs": [
    {
     "data": {
      "text/html": [
       "<div>\n",
       "<style scoped>\n",
       "    .dataframe tbody tr th:only-of-type {\n",
       "        vertical-align: middle;\n",
       "    }\n",
       "\n",
       "    .dataframe tbody tr th {\n",
       "        vertical-align: top;\n",
       "    }\n",
       "\n",
       "    .dataframe thead th {\n",
       "        text-align: right;\n",
       "    }\n",
       "</style>\n",
       "<table border=\"1\" class=\"dataframe\">\n",
       "  <thead>\n",
       "    <tr style=\"text-align: right;\">\n",
       "      <th></th>\n",
       "      <th>title</th>\n",
       "      <th>author</th>\n",
       "      <th>text</th>\n",
       "      <th>label</th>\n",
       "    </tr>\n",
       "    <tr>\n",
       "      <th>id</th>\n",
       "      <th></th>\n",
       "      <th></th>\n",
       "      <th></th>\n",
       "      <th></th>\n",
       "    </tr>\n",
       "  </thead>\n",
       "  <tbody>\n",
       "    <tr>\n",
       "      <th>0</th>\n",
       "      <td>House Dem Aide: We Didn’t Even See Comey’s Let...</td>\n",
       "      <td>Darrell Lucus</td>\n",
       "      <td>House Dem Aide: We Didn’t Even See Comey’s Let...</td>\n",
       "      <td>1</td>\n",
       "    </tr>\n",
       "    <tr>\n",
       "      <th>1</th>\n",
       "      <td>FLYNN: Hillary Clinton, Big Woman on Campus - ...</td>\n",
       "      <td>Daniel J. Flynn</td>\n",
       "      <td>Ever get the feeling your life circles the rou...</td>\n",
       "      <td>0</td>\n",
       "    </tr>\n",
       "    <tr>\n",
       "      <th>2</th>\n",
       "      <td>Why the Truth Might Get You Fired</td>\n",
       "      <td>Consortiumnews.com</td>\n",
       "      <td>Why the Truth Might Get You Fired October 29, ...</td>\n",
       "      <td>1</td>\n",
       "    </tr>\n",
       "    <tr>\n",
       "      <th>3</th>\n",
       "      <td>15 Civilians Killed In Single US Airstrike Hav...</td>\n",
       "      <td>Jessica Purkiss</td>\n",
       "      <td>Videos 15 Civilians Killed In Single US Airstr...</td>\n",
       "      <td>1</td>\n",
       "    </tr>\n",
       "    <tr>\n",
       "      <th>4</th>\n",
       "      <td>Iranian woman jailed for fictional unpublished...</td>\n",
       "      <td>Howard Portnoy</td>\n",
       "      <td>Print \\nAn Iranian woman has been sentenced to...</td>\n",
       "      <td>1</td>\n",
       "    </tr>\n",
       "    <tr>\n",
       "      <th>...</th>\n",
       "      <td>...</td>\n",
       "      <td>...</td>\n",
       "      <td>...</td>\n",
       "      <td>...</td>\n",
       "    </tr>\n",
       "    <tr>\n",
       "      <th>20795</th>\n",
       "      <td>Rapper T.I.: Trump a ’Poster Child For White S...</td>\n",
       "      <td>Jerome Hudson</td>\n",
       "      <td>Rapper T. I. unloaded on black celebrities who...</td>\n",
       "      <td>0</td>\n",
       "    </tr>\n",
       "    <tr>\n",
       "      <th>20796</th>\n",
       "      <td>N.F.L. Playoffs: Schedule, Matchups and Odds -...</td>\n",
       "      <td>Benjamin Hoffman</td>\n",
       "      <td>When the Green Bay Packers lost to the Washing...</td>\n",
       "      <td>0</td>\n",
       "    </tr>\n",
       "    <tr>\n",
       "      <th>20797</th>\n",
       "      <td>Macy’s Is Said to Receive Takeover Approach by...</td>\n",
       "      <td>Michael J. de la Merced and Rachel Abrams</td>\n",
       "      <td>The Macy’s of today grew from the union of sev...</td>\n",
       "      <td>0</td>\n",
       "    </tr>\n",
       "    <tr>\n",
       "      <th>20798</th>\n",
       "      <td>NATO, Russia To Hold Parallel Exercises In Bal...</td>\n",
       "      <td>Alex Ansary</td>\n",
       "      <td>NATO, Russia To Hold Parallel Exercises In Bal...</td>\n",
       "      <td>1</td>\n",
       "    </tr>\n",
       "    <tr>\n",
       "      <th>20799</th>\n",
       "      <td>What Keeps the F-35 Alive</td>\n",
       "      <td>David Swanson</td>\n",
       "      <td>David Swanson is an author, activist, journa...</td>\n",
       "      <td>1</td>\n",
       "    </tr>\n",
       "  </tbody>\n",
       "</table>\n",
       "<p>20800 rows × 4 columns</p>\n",
       "</div>"
      ],
      "text/plain": [
       "                                                   title  ... label\n",
       "id                                                        ...      \n",
       "0      House Dem Aide: We Didn’t Even See Comey’s Let...  ...     1\n",
       "1      FLYNN: Hillary Clinton, Big Woman on Campus - ...  ...     0\n",
       "2                      Why the Truth Might Get You Fired  ...     1\n",
       "3      15 Civilians Killed In Single US Airstrike Hav...  ...     1\n",
       "4      Iranian woman jailed for fictional unpublished...  ...     1\n",
       "...                                                  ...  ...   ...\n",
       "20795  Rapper T.I.: Trump a ’Poster Child For White S...  ...     0\n",
       "20796  N.F.L. Playoffs: Schedule, Matchups and Odds -...  ...     0\n",
       "20797  Macy’s Is Said to Receive Takeover Approach by...  ...     0\n",
       "20798  NATO, Russia To Hold Parallel Exercises In Bal...  ...     1\n",
       "20799                          What Keeps the F-35 Alive  ...     1\n",
       "\n",
       "[20800 rows x 4 columns]"
      ]
     },
     "execution_count": 8,
     "metadata": {},
     "output_type": "execute_result"
    }
   ],
   "source": [
    "train\n"
   ]
  },
  {
   "cell_type": "code",
   "execution_count": null,
   "metadata": {
    "id": "HkhNR2SuPm-s"
   },
   "outputs": [],
   "source": [
    "traindf = train.drop(['author','text'],axis=1)\n",
    "testdf = test.drop(['author','text'],axis=1)"
   ]
  },
  {
   "cell_type": "code",
   "execution_count": null,
   "metadata": {
    "colab": {
     "base_uri": "https://localhost:8080/",
     "height": 455
    },
    "id": "mUNRGLYZQK4s",
    "outputId": "61959e41-5939-4bda-fe13-53772f71afd8"
   },
   "outputs": [
    {
     "data": {
      "text/html": [
       "<div>\n",
       "<style scoped>\n",
       "    .dataframe tbody tr th:only-of-type {\n",
       "        vertical-align: middle;\n",
       "    }\n",
       "\n",
       "    .dataframe tbody tr th {\n",
       "        vertical-align: top;\n",
       "    }\n",
       "\n",
       "    .dataframe thead th {\n",
       "        text-align: right;\n",
       "    }\n",
       "</style>\n",
       "<table border=\"1\" class=\"dataframe\">\n",
       "  <thead>\n",
       "    <tr style=\"text-align: right;\">\n",
       "      <th></th>\n",
       "      <th>title</th>\n",
       "      <th>label</th>\n",
       "    </tr>\n",
       "    <tr>\n",
       "      <th>id</th>\n",
       "      <th></th>\n",
       "      <th></th>\n",
       "    </tr>\n",
       "  </thead>\n",
       "  <tbody>\n",
       "    <tr>\n",
       "      <th>0</th>\n",
       "      <td>House Dem Aide: We Didn’t Even See Comey’s Let...</td>\n",
       "      <td>1</td>\n",
       "    </tr>\n",
       "    <tr>\n",
       "      <th>1</th>\n",
       "      <td>FLYNN: Hillary Clinton, Big Woman on Campus - ...</td>\n",
       "      <td>0</td>\n",
       "    </tr>\n",
       "    <tr>\n",
       "      <th>2</th>\n",
       "      <td>Why the Truth Might Get You Fired</td>\n",
       "      <td>1</td>\n",
       "    </tr>\n",
       "    <tr>\n",
       "      <th>3</th>\n",
       "      <td>15 Civilians Killed In Single US Airstrike Hav...</td>\n",
       "      <td>1</td>\n",
       "    </tr>\n",
       "    <tr>\n",
       "      <th>4</th>\n",
       "      <td>Iranian woman jailed for fictional unpublished...</td>\n",
       "      <td>1</td>\n",
       "    </tr>\n",
       "    <tr>\n",
       "      <th>...</th>\n",
       "      <td>...</td>\n",
       "      <td>...</td>\n",
       "    </tr>\n",
       "    <tr>\n",
       "      <th>20795</th>\n",
       "      <td>Rapper T.I.: Trump a ’Poster Child For White S...</td>\n",
       "      <td>0</td>\n",
       "    </tr>\n",
       "    <tr>\n",
       "      <th>20796</th>\n",
       "      <td>N.F.L. Playoffs: Schedule, Matchups and Odds -...</td>\n",
       "      <td>0</td>\n",
       "    </tr>\n",
       "    <tr>\n",
       "      <th>20797</th>\n",
       "      <td>Macy’s Is Said to Receive Takeover Approach by...</td>\n",
       "      <td>0</td>\n",
       "    </tr>\n",
       "    <tr>\n",
       "      <th>20798</th>\n",
       "      <td>NATO, Russia To Hold Parallel Exercises In Bal...</td>\n",
       "      <td>1</td>\n",
       "    </tr>\n",
       "    <tr>\n",
       "      <th>20799</th>\n",
       "      <td>What Keeps the F-35 Alive</td>\n",
       "      <td>1</td>\n",
       "    </tr>\n",
       "  </tbody>\n",
       "</table>\n",
       "<p>20800 rows × 2 columns</p>\n",
       "</div>"
      ],
      "text/plain": [
       "                                                   title  label\n",
       "id                                                             \n",
       "0      House Dem Aide: We Didn’t Even See Comey’s Let...      1\n",
       "1      FLYNN: Hillary Clinton, Big Woman on Campus - ...      0\n",
       "2                      Why the Truth Might Get You Fired      1\n",
       "3      15 Civilians Killed In Single US Airstrike Hav...      1\n",
       "4      Iranian woman jailed for fictional unpublished...      1\n",
       "...                                                  ...    ...\n",
       "20795  Rapper T.I.: Trump a ’Poster Child For White S...      0\n",
       "20796  N.F.L. Playoffs: Schedule, Matchups and Odds -...      0\n",
       "20797  Macy’s Is Said to Receive Takeover Approach by...      0\n",
       "20798  NATO, Russia To Hold Parallel Exercises In Bal...      1\n",
       "20799                          What Keeps the F-35 Alive      1\n",
       "\n",
       "[20800 rows x 2 columns]"
      ]
     },
     "execution_count": 10,
     "metadata": {},
     "output_type": "execute_result"
    }
   ],
   "source": [
    "traindf"
   ]
  },
  {
   "cell_type": "markdown",
   "metadata": {
    "id": "zyZAiZ52Q89G"
   },
   "source": [
    "### Drop Null"
   ]
  },
  {
   "cell_type": "code",
   "execution_count": null,
   "metadata": {
    "id": "uw4p4pdsQQq8"
   },
   "outputs": [],
   "source": [
    "traindf = traindf.dropna()\n",
    "testdf =  testdf.dropna()"
   ]
  },
  {
   "cell_type": "markdown",
   "metadata": {
    "id": "fmspWWVXReEs"
   },
   "source": [
    "### Finding Value for length Variable"
   ]
  },
  {
   "cell_type": "code",
   "execution_count": null,
   "metadata": {
    "colab": {
     "base_uri": "https://localhost:8080/"
    },
    "id": "cQuJb_rlQwF9",
    "outputId": "948e560f-f67d-4d9c-90c6-9c77b76a90b4"
   },
   "outputs": [
    {
     "name": "stderr",
     "output_type": "stream",
     "text": [
      "/usr/local/lib/python3.7/dist-packages/ipykernel_launcher.py:1: SettingWithCopyWarning: \n",
      "A value is trying to be set on a copy of a slice from a DataFrame.\n",
      "Try using .loc[row_indexer,col_indexer] = value instead\n",
      "\n",
      "See the caveats in the documentation: https://pandas.pydata.org/pandas-docs/stable/user_guide/indexing.html#returning-a-view-versus-a-copy\n",
      "  \"\"\"Entry point for launching an IPython kernel.\n"
     ]
    }
   ],
   "source": [
    "traindf['length'] = traindf['title'].apply(lambda x : len(x.split()))\n",
    "testdf['length'] = testdf['title'].apply(lambda x : len(x.split()))"
   ]
  },
  {
   "cell_type": "code",
   "execution_count": null,
   "metadata": {
    "colab": {
     "base_uri": "https://localhost:8080/",
     "height": 393
    },
    "id": "TtFr1HrUQzec",
    "outputId": "f58119ad-4d59-4fcc-dd79-15e8942abcd7"
   },
   "outputs": [
    {
     "data": {
      "text/plain": [
       "array([<matplotlib.axes._subplots.AxesSubplot object at 0x7f1b4c63b6d0>,\n",
       "       <matplotlib.axes._subplots.AxesSubplot object at 0x7f1b4c618c10>],\n",
       "      dtype=object)"
      ]
     },
     "execution_count": 13,
     "metadata": {},
     "output_type": "execute_result"
    },
    {
     "data": {
      "image/png": "[encoded data removed]",
      "text/plain": [
       "<Figure size 864x360 with 2 Axes>"
      ]
     },
     "metadata": {
      "needs_background": "light"
     },
     "output_type": "display_data"
    }
   ],
   "source": [
    "traindf.hist(column='length',by='label',bins=30 ,figsize=(12,5))"
   ]
  },
  {
   "cell_type": "code",
   "execution_count": null,
   "metadata": {
    "id": "1kVxzkAxSgh7"
   },
   "outputs": [],
   "source": [
    "length  = traindf['length'].max()"
   ]
  },
  {
   "cell_type": "code",
   "execution_count": null,
   "metadata": {
    "colab": {
     "base_uri": "https://localhost:8080/"
    },
    "id": "iFUA6GWMTOH6",
    "outputId": "22d7d39e-3986-4dbb-e465-96c1fe09c94b"
   },
   "outputs": [
    {
     "data": {
      "text/plain": [
       "42"
      ]
     },
     "execution_count": 15,
     "metadata": {},
     "output_type": "execute_result"
    }
   ],
   "source": [
    "testdf['length'].max()"
   ]
  },
  {
   "cell_type": "code",
   "execution_count": null,
   "metadata": {
    "id": "LIRa_7VuTnPa"
   },
   "outputs": [],
   "source": [
    "#So Our Length Variable will be 72"
   ]
  },
  {
   "cell_type": "markdown",
   "metadata": {
    "id": "H3UMtS1V4tBL"
   },
   "source": [
    "###  Remove Punctuations"
   ]
  },
  {
   "cell_type": "code",
   "execution_count": null,
   "metadata": {
    "id": "8Acgtqz490vs"
   },
   "outputs": [],
   "source": [
    "import re"
   ]
  },
  {
   "cell_type": "code",
   "execution_count": null,
   "metadata": {
    "colab": {
     "base_uri": "https://localhost:8080/"
    },
    "id": "0TIV2oHWBL76",
    "outputId": "46c67424-31e0-409b-fecf-011d637a6ba9"
   },
   "outputs": [
    {
     "name": "stderr",
     "output_type": "stream",
     "text": [
      "/usr/local/lib/python3.7/dist-packages/ipykernel_launcher.py:1: SettingWithCopyWarning: \n",
      "A value is trying to be set on a copy of a slice from a DataFrame.\n",
      "Try using .loc[row_indexer,col_indexer] = value instead\n",
      "\n",
      "See the caveats in the documentation: https://pandas.pydata.org/pandas-docs/stable/user_guide/indexing.html#returning-a-view-versus-a-copy\n",
      "  \"\"\"Entry point for launching an IPython kernel.\n"
     ]
    }
   ],
   "source": [
    "traindf['title'] =traindf['title'].apply(lambda x: ' '.join([re.sub('[^a-zA-Z]' , \"\",word) for word in x.split() \n",
    "                                                            ]))"
   ]
  },
  {
   "cell_type": "code",
   "execution_count": null,
   "metadata": {
    "colab": {
     "base_uri": "https://localhost:8080/",
     "height": 36
    },
    "id": "kWbn5oa9BL_1",
    "outputId": "9e994671-6de5-4ea0-fadd-f9a5f17604b5"
   },
   "outputs": [
    {
     "data": {
      "application/vnd.google.colaboratory.intrinsic+json": {
       "type": "string"
      },
      "text/plain": [
       "'House Dem Aide We Didnt Even See Comeys Letter Until Jason Chaffetz Tweeted It'"
      ]
     },
     "execution_count": 19,
     "metadata": {},
     "output_type": "execute_result"
    }
   ],
   "source": [
    "traindf['title'][0]"
   ]
  },
  {
   "cell_type": "markdown",
   "metadata": {
    "id": "hFnRA8_pBRP1"
   },
   "source": [
    "### Remove StopWords"
   ]
  },
  {
   "cell_type": "code",
   "execution_count": null,
   "metadata": {
    "id": "5Q1AE9YcBMDl"
   },
   "outputs": [],
   "source": [
    "import string"
   ]
  },
  {
   "cell_type": "code",
   "execution_count": null,
   "metadata": {
    "colab": {
     "base_uri": "https://localhost:8080/"
    },
    "id": "70P-UdEf1Fkz",
    "outputId": "97c99a50-a176-4979-b198-ee3a81d40a6e"
   },
   "outputs": [
    {
     "metadata": {
      "tags": null
     },
     "name": "stderr",
     "output_type": "stream",
     "text": [
      "/usr/local/lib/python3.7/dist-packages/ipykernel_launcher.py:1: SettingWithCopyWarning: \n",
      "A value is trying to be set on a copy of a slice from a DataFrame.\n",
      "Try using .loc[row_indexer,col_indexer] = value instead\n",
      "\n",
      "See the caveats in the documentation: https://pandas.pydata.org/pandas-docs/stable/user_guide/indexing.html#returning-a-view-versus-a-copy\n",
      "  \"\"\"Entry point for launching an IPython kernel.\n"
     ]
    }
   ],
   "source": [
    "traindf['title'] = traindf['title'].apply(lambda x: ' '.join([word for word in x.lower().split() if word not in \n",
    "                                                            stopwords.words('english') and string.punctuation]))"
   ]
  },
  {
   "cell_type": "code",
   "execution_count": null,
   "metadata": {
    "colab": {
     "base_uri": "https://localhost:8080/",
     "height": 36
    },
    "id": "gNQTTOhlAAxg",
    "outputId": "dba0ba78-c42b-445b-edaf-5a46189d8601"
   },
   "outputs": [
    {
     "data": {
      "application/vnd.google.colaboratory.intrinsic+json": {
       "type": "string"
      },
      "text/plain": [
       "'house dem aide didnt even see comeys letter jason chaffetz tweeted'"
      ]
     },
     "execution_count": null,
     "metadata": {},
     "output_type": "execute_result"
    }
   ],
   "source": [
    "traindf['title'][0]"
   ]
  },
  {
   "cell_type": "markdown",
   "metadata": {
    "id": "sw9HAzpgBdZw"
   },
   "source": [
    "### Stemming"
   ]
  },
  {
   "cell_type": "code",
   "execution_count": null,
   "metadata": {
    "id": "ip5DC4mH1Fng"
   },
   "outputs": [],
   "source": [
    "from nltk.stem.porter import *\n"
   ]
  },
  {
   "cell_type": "code",
   "execution_count": null,
   "metadata": {
    "id": "jY7yIcJrBuPg"
   },
   "outputs": [],
   "source": [
    " stemmer = PorterStemmer()"
   ]
  },
  {
   "cell_type": "code",
   "execution_count": null,
   "metadata": {
    "colab": {
     "base_uri": "https://localhost:8080/"
    },
    "id": "25q0NhJ--zwJ",
    "outputId": "70684459-da3a-4082-ac05-29cf37395ed3"
   },
   "outputs": [
    {
     "metadata": {
      "tags": null
     },
     "name": "stderr",
     "output_type": "stream",
     "text": [
      "/usr/local/lib/python3.7/dist-packages/ipykernel_launcher.py:1: SettingWithCopyWarning: \n",
      "A value is trying to be set on a copy of a slice from a DataFrame.\n",
      "Try using .loc[row_indexer,col_indexer] = value instead\n",
      "\n",
      "See the caveats in the documentation: https://pandas.pydata.org/pandas-docs/stable/user_guide/indexing.html#returning-a-view-versus-a-copy\n",
      "  \"\"\"Entry point for launching an IPython kernel.\n"
     ]
    }
   ],
   "source": [
    "traindf['title'] = traindf['title'].apply(lambda x: stemmer.stem(x))"
   ]
  },
  {
   "cell_type": "code",
   "execution_count": null,
   "metadata": {
    "colab": {
     "base_uri": "https://localhost:8080/"
    },
    "id": "xalqKZsmCD0g",
    "outputId": "0c0feca0-739a-40e7-c67b-befd29bfc872"
   },
   "outputs": [
    {
     "data": {
      "text/plain": [
       "id\n",
       "0        house dem aide didnt even see comeys letter ja...\n",
       "1         flynn hillary clinton big woman campus breitbart\n",
       "2                                      truth might get fir\n",
       "3            civilians killed single us airstrike identifi\n",
       "4        iranian woman jailed fictional unpublished sto...\n",
       "                               ...                        \n",
       "20795         rapper ti trump poster child white supremaci\n",
       "20796     nfl playoffs schedule matchups odds new york tim\n",
       "20797    macys said receive takeover approach hudsons b...\n",
       "20798           nato russia hold parallel exercises balkan\n",
       "20799                                           keeps f al\n",
       "Name: title, Length: 20242, dtype: object"
      ]
     },
     "execution_count": null,
     "metadata": {},
     "output_type": "execute_result"
    }
   ],
   "source": [
    "traindf['title']"
   ]
  },
  {
   "cell_type": "markdown",
   "metadata": {
    "id": "aYatnSbCd9GR"
   },
   "source": [
    "## ONE HOT ENCODE"
   ]
  },
  {
   "cell_type": "code",
   "execution_count": null,
   "metadata": {
    "id": "oM_fTC12cpgF"
   },
   "outputs": [],
   "source": [
    "import tensorflow \n",
    "from tensorflow.keras.preprocessing.text import one_hot\n"
   ]
  },
  {
   "cell_type": "code",
   "execution_count": null,
   "metadata": {
    "colab": {
     "base_uri": "https://localhost:8080/"
    },
    "id": "rAtI4KTAD1lu",
    "outputId": "6004ccff-b035-4853-b6dd-74883e36fed4"
   },
   "outputs": [
    {
     "data": {
      "text/plain": [
       "id\n",
       "0        house dem aide didnt even see comeys letter ja...\n",
       "1         flynn hillary clinton big woman campus breitbart\n",
       "2                                      truth might get fir\n",
       "3            civilians killed single us airstrike identifi\n",
       "4        iranian woman jailed fictional unpublished sto...\n",
       "                               ...                        \n",
       "20795         rapper ti trump poster child white supremaci\n",
       "20796     nfl playoffs schedule matchups odds new york tim\n",
       "20797    macys said receive takeover approach hudsons b...\n",
       "20798           nato russia hold parallel exercises balkan\n",
       "20799                                           keeps f al\n",
       "Name: title, Length: 20242, dtype: object"
      ]
     },
     "execution_count": null,
     "metadata": {},
     "output_type": "execute_result"
    }
   ],
   "source": [
    "train_x = traindf['title']\n",
    "train_y = traindf['label']\n",
    "\n",
    "train_x"
   ]
  },
  {
   "cell_type": "code",
   "execution_count": null,
   "metadata": {
    "id": "K6-gprsbDdbW"
   },
   "outputs": [],
   "source": [
    "#Building a corpus\n",
    "corpus = []\n",
    "for word in train_x:\n",
    "  corpus.append(word)\n",
    "\n",
    "corpus"
   ]
  },
  {
   "cell_type": "code",
   "execution_count": null,
   "metadata": {
    "id": "uv1kZaGaeQ61"
   },
   "outputs": [],
   "source": [
    "vac_size = 5000\n",
    "train_x = [one_hot(word , vac_size  )for word in corpus  ] "
   ]
  },
  {
   "cell_type": "code",
   "execution_count": null,
   "metadata": {
    "id": "IcLSd3uke27E"
   },
   "outputs": [],
   "source": [
    "train_x"
   ]
  },
  {
   "cell_type": "markdown",
   "metadata": {
    "id": "nCEnzNiwByhT"
   },
   "source": [
    "## Embedding using Pad Sequences"
   ]
  },
  {
   "cell_type": "code",
   "execution_count": null,
   "metadata": {
    "id": "BklhC5n1y0Xt"
   },
   "outputs": [],
   "source": [
    "from tensorflow.keras.preprocessing.sequence import pad_sequences"
   ]
  },
  {
   "cell_type": "code",
   "execution_count": null,
   "metadata": {
    "id": "vh7vIuMsCLi7"
   },
   "outputs": [],
   "source": [
    "train_x  = pad_sequences(train_x ,  padding = 'pre' , maxlen=length)"
   ]
  },
  {
   "cell_type": "code",
   "execution_count": null,
   "metadata": {
    "colab": {
     "base_uri": "https://localhost:8080/"
    },
    "id": "yP_6S2mbDvnZ",
    "outputId": "9dde1833-ed84-4152-abab-85321752ecbd"
   },
   "outputs": [
    {
     "data": {
      "text/plain": [
       "array([[   0,    0,    0, ..., 2471, 2976, 1712],\n",
       "       [   0,    0,    0, ...,  921, 1018, 3029],\n",
       "       [   0,    0,    0, ..., 3017, 1849, 4784],\n",
       "       ...,\n",
       "       [   0,    0,    0, ..., 3845, 4082, 4831],\n",
       "       [   0,    0,    0, ..., 3603, 4180, 2381],\n",
       "       [   0,    0,    0, ..., 3147, 4304, 4212]], dtype=int32)"
      ]
     },
     "execution_count": 37,
     "metadata": {},
     "output_type": "execute_result"
    }
   ],
   "source": [
    "train_x"
   ]
  },
  {
   "cell_type": "markdown",
   "metadata": {
    "id": "UgslNolFFmnR"
   },
   "source": [
    "# Splitting Data in x,y"
   ]
  },
  {
   "cell_type": "code",
   "execution_count": null,
   "metadata": {
    "id": "pHr8YCnIFtz2"
   },
   "outputs": [],
   "source": [
    "from sklearn.model_selection import train_test_split"
   ]
  },
  {
   "cell_type": "code",
   "execution_count": null,
   "metadata": {
    "id": "PXAblO6bFt1-"
   },
   "outputs": [],
   "source": [
    "#Convert both data and labels in array before split\n",
    "train_X = np.array(train_x)\n",
    "train_Y = np.array(train_y)"
   ]
  },
  {
   "cell_type": "code",
   "execution_count": null,
   "metadata": {
    "id": "W8E-wj_oFt-t"
   },
   "outputs": [],
   "source": [
    "X_train, X_test, y_train, y_test = train_test_split( train_X, train_Y, test_size=0.33, random_state=101)"
   ]
  },
  {
   "cell_type": "markdown",
   "metadata": {
    "id": "ZLN6A3q6D0pr"
   },
   "source": [
    "# Creating Embedding Layer And Our Model"
   ]
  },
  {
   "cell_type": "code",
   "execution_count": null,
   "metadata": {
    "id": "snFdr0wiDxo5"
   },
   "outputs": [],
   "source": [
    "from tensorflow.keras.layers import Dense , LSTM , Dropout ,Embedding\n",
    "from tensorflow.keras.models import Sequential\n",
    "from tensorflow.keras.callbacks import EarlyStopping"
   ]
  },
  {
   "cell_type": "code",
   "execution_count": null,
   "metadata": {
    "id": "KPjP9QR4Ycal"
   },
   "outputs": [],
   "source": [
    "early = EarlyStopping(monitor='val_loss',  patience=1, verbose=1, mode='auto',)"
   ]
  },
  {
   "cell_type": "code",
   "execution_count": null,
   "metadata": {
    "id": "febNcahlEHxK"
   },
   "outputs": [],
   "source": [
    "dimensions = 40\n",
    "#Model\n",
    "model = Sequential()\n",
    "model.add (Embedding( input_dim=vac_size , output_dim=dimensions , input_length=length))\n",
    "model.add(LSTM( 100 , activation='relu'))\n",
    "model.add(Dropout(0.5))\n",
    "\n",
    "#output\n",
    "model.add(Dense(1 , activation='sigmoid'))\n"
   ]
  },
  {
   "cell_type": "code",
   "execution_count": null,
   "metadata": {
    "id": "gwCZyFllG_m5"
   },
   "outputs": [],
   "source": [
    "#compiler\n",
    "model.compile( optimizer='adam', loss='binary_crossentropy' , metrics = ['accuracy'])"
   ]
  },
  {
   "cell_type": "markdown",
   "metadata": {
    "id": "8UmItTb-HklF"
   },
   "source": [
    "# Train"
   ]
  },
  {
   "cell_type": "code",
   "execution_count": null,
   "metadata": {
    "colab": {
     "base_uri": "https://localhost:8080/"
    },
    "id": "nhJ8jD5AHeM5",
    "outputId": "3e723de2-fa9a-4a2a-8cff-d242cce026ae"
   },
   "outputs": [
    {
     "name": "stdout",
     "output_type": "stream",
     "text": [
      "Epoch 1/10\n",
      "212/212 [==============================] - 22s 99ms/step - loss: 0.4309 - accuracy: 0.8632 - val_loss: 0.2302 - val_accuracy: 0.9127\n",
      "Epoch 2/10\n",
      "212/212 [==============================] - 21s 97ms/step - loss: 0.1827 - accuracy: 0.9297 - val_loss: 0.1922 - val_accuracy: 0.9211\n",
      "Epoch 3/10\n",
      "212/212 [==============================] - 21s 97ms/step - loss: 0.1241 - accuracy: 0.9561 - val_loss: 0.2172 - val_accuracy: 0.9201\n",
      "Epoch 00003: early stopping\n"
     ]
    },
    {
     "data": {
      "text/plain": [
       "<keras.callbacks.History at 0x7f1af46c5a90>"
      ]
     },
     "execution_count": 198,
     "metadata": {},
     "output_type": "execute_result"
    }
   ],
   "source": [
    "model.fit(X_train,y_train , validation_data=(X_test,y_test) , batch_size = 64 ,epochs = 10 , callbacks=[early]  )"
   ]
  },
  {
   "cell_type": "code",
   "execution_count": null,
   "metadata": {
    "colab": {
     "base_uri": "https://localhost:8080/",
     "height": 295
    },
    "id": "OaK984SVO64a",
    "outputId": "5dd5d56f-7cd5-4c45-cfbe-178c5633457f"
   },
   "outputs": [
    {
     "data": {
      "image/png": "[encoded data removed]",
      "text/plain": [
       "<Figure size 432x288 with 1 Axes>"
      ]
     },
     "metadata": {
      "needs_background": "light"
     },
     "output_type": "display_data"
    }
   ],
   "source": [
    "plt.plot(model.history.history['loss'])\n",
    "plt.plot(model.history.history['val_loss'])\n",
    "plt.title('model loss')\n",
    "plt.ylabel('loss')\n",
    "plt.xlabel('epoch')\n",
    "plt.legend(['train', 'val'], loc='upper left')\n",
    "plt.show()\n"
   ]
  },
  {
   "cell_type": "code",
   "execution_count": null,
   "metadata": {
    "colab": {
     "base_uri": "https://localhost:8080/",
     "height": 295
    },
    "id": "qVSsTTw1iRpq",
    "outputId": "cebeeacd-b8c9-45c8-8d47-d7cf221a9a5c"
   },
   "outputs": [
    {
     "data": {
      "image/png": "[encoded data removed]",
      "text/plain": [
       "<Figure size 432x288 with 1 Axes>"
      ]
     },
     "metadata": {
      "needs_background": "light"
     },
     "output_type": "display_data"
    }
   ],
   "source": [
    "plt.plot(model.history.history['accuracy'])\n",
    "plt.plot(model.history.history['val_accuracy'])\n",
    "plt.title('model accuracy')\n",
    "plt.ylabel('accuracy')\n",
    "plt.xlabel('epoch')\n",
    "plt.legend(['train', 'val'], loc='upper left')\n",
    "plt.show()"
   ]
  },
  {
   "cell_type": "markdown",
   "metadata": {
    "id": "OR1Y-BckjNE7"
   },
   "source": [
    "# Test"
   ]
  },
  {
   "cell_type": "code",
   "execution_count": null,
   "metadata": {
    "id": "RyMOMnZ2jmG5"
   },
   "outputs": [],
   "source": [
    "from sklearn.metrics import confusion_matrix , classification_report"
   ]
  },
  {
   "cell_type": "code",
   "execution_count": null,
   "metadata": {
    "id": "HpBsGUQ_ibRI"
   },
   "outputs": [],
   "source": [
    "pred = model.predict(X_test)\n",
    "prediction = (pred > 0.5).astype(int)\n"
   ]
  },
  {
   "cell_type": "code",
   "execution_count": null,
   "metadata": {
    "colab": {
     "base_uri": "https://localhost:8080/"
    },
    "id": "V8LFpSecjhXG",
    "outputId": "eb7f95c9-e389-4253-a790-7ba1ef8a5172"
   },
   "outputs": [
    {
     "name": "stdout",
     "output_type": "stream",
     "text": [
      "[[3127  324]\n",
      " [ 210 3019]]\n"
     ]
    }
   ],
   "source": [
    "print( confusion_matrix(y_test , prediction ))"
   ]
  },
  {
   "cell_type": "code",
   "execution_count": null,
   "metadata": {
    "colab": {
     "base_uri": "https://localhost:8080/"
    },
    "id": "ReE5rWEMj0rn",
    "outputId": "f3da248c-3364-4fc8-e8aa-723f7439ea0c"
   },
   "outputs": [
    {
     "name": "stdout",
     "output_type": "stream",
     "text": [
      "              precision    recall  f1-score   support\n",
      "\n",
      "           0       0.94      0.91      0.92      3451\n",
      "           1       0.90      0.93      0.92      3229\n",
      "\n",
      "    accuracy                           0.92      6680\n",
      "   macro avg       0.92      0.92      0.92      6680\n",
      "weighted avg       0.92      0.92      0.92      6680\n",
      "\n"
     ]
    }
   ],
   "source": [
    "print( classification_report(y_test , prediction ))"
   ]
  },
  {
   "cell_type": "markdown",
   "metadata": {
    "id": "g4rbPKqPlyz7"
   },
   "source": [
    "# Save"
   ]
  },
  {
   "cell_type": "code",
   "execution_count": 216,
   "metadata": {
    "id": "QEpYlLzFlHKX"
   },
   "outputs": [],
   "source": [
    "model.save(\"FakeNewsClassify.h5\")"
   ]
  }
 ],
 "metadata": {
  "colab": {
   "collapsed_sections": [],
   "name": "NLPFakeNewsClassifier.ipynb",
   "provenance": []
  },
  "kernelspec": {
   "display_name": "Python 3",
   "language": "python",
   "name": "python3"
  },
  "language_info": {
   "codemirror_mode": {
    "name": "ipython",
    "version": 3
   },
   "file_extension": ".py",
   "mimetype": "text/x-python",
   "name": "python",
   "nbconvert_exporter": "python",
   "pygments_lexer": "ipython3",
   "version": "3.8.5"
  }
 },
 "nbformat": 4,
 "nbformat_minor": 1
}
